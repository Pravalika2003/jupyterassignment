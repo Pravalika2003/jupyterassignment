{
 "cells": [
  {
   "cell_type": "markdown",
   "id": "b20e5a66",
   "metadata": {},
   "source": [
    "# Data Science Tools and Ecosystem"
   ]
  },
  {
   "cell_type": "markdown",
   "id": "447a8b61",
   "metadata": {},
   "source": [
    "# Introduction\n",
    "\n",
    "In this notebook, Data Science Tools and Ecosystem are summarized\n",
    "\n",
    "1. Listed popular programming languages commonly used by Data Scientists.\n",
    "2. Listed commonly used libraries that enhance the capabilities of Data Scientists.\n",
    "3. Offered commentary on the diverse set of tools available in the Data Science field."
   ]
  },
  {
   "cell_type": "markdown",
   "id": "fa27e35b",
   "metadata": {},
   "source": [
    "# Data science languages\n",
    "\n",
    "Some of the commonly used libraries used by Data Scientists include:\n",
    "1. Python\n",
    "2. R\n",
    "3. SQL\n",
    "4. Java\n"
   ]
  },
  {
   "cell_type": "markdown",
   "id": "814bc0aa",
   "metadata": {},
   "source": [
    "# Data science libraries\n",
    "\n",
    "Some of the commonly used libraries used by Data Scientists include:\n",
    "1. TensorFlow\n",
    "2. NumPy\n",
    "3. SciPy\n",
    "4. Pandas\n",
    "5. Matplotlib\n",
    "6. Keras\n",
    "7. SciKit-Learn\n",
    "8. PyTorch"
   ]
  },
  {
   "cell_type": "markdown",
   "id": "6dc249e7",
   "metadata": {},
   "source": [
    "# A table of Data Science tools\n",
    "\n",
    "\n",
    "| Data Science Tools         |\n",
    "|----------------------------|\n",
    "| Jupyter Notebook           |\n",
    "|   RStudio                  |\n",
    "|VS Code (Visual Studio Code)|"
   ]
  },
  {
   "cell_type": "code",
   "execution_count": 2,
   "id": "15713fc2",
   "metadata": {},
   "outputs": [
    {
     "data": {
      "text/plain": [
       "14"
      ]
     },
     "execution_count": 2,
     "metadata": {},
     "output_type": "execute_result"
    }
   ],
   "source": [
    "### Below are a few examples of evaluating arithmetic expressions in Python.\n",
    "code = compile(\"12 + 2\", \"<string>\", \"eval\")\n",
    "eval(code)\n",
    "# Result: 14"
   ]
  },
  {
   "cell_type": "code",
   "execution_count": 1,
   "id": "5e24d646",
   "metadata": {},
   "outputs": [
    {
     "data": {
      "text/plain": [
       "65449.84694978735"
      ]
     },
     "execution_count": 1,
     "metadata": {},
     "output_type": "execute_result"
    }
   ],
   "source": [
    "import math\n",
    "# Volume of a sphere\n",
    "code2 = compile(\"4 / 3 * math.pi * math.pow(25, 3)\", \"<string>\",\"eval\")\n",
    "eval(code2)\n",
    "# Result: 65449.84694978735\n"
   ]
  },
  {
   "cell_type": "code",
   "execution_count": 3,
   "id": "7b80ec91",
   "metadata": {},
   "outputs": [
    {
     "data": {
      "text/plain": [
       "17"
      ]
     },
     "execution_count": 3,
     "metadata": {},
     "output_type": "execute_result"
    }
   ],
   "source": [
    "# This is a simple arithmetic expression to multiply and add integers.\n",
    "result = (3 * 4) +2\n",
    "result\n",
    "#result :17"
   ]
  },
  {
   "cell_type": "code",
   "execution_count": 4,
   "id": "e0a4619c",
   "metadata": {},
   "outputs": [
    {
     "data": {
      "text/plain": [
       "3.3333333333333335"
      ]
     },
     "execution_count": 4,
     "metadata": {},
     "output_type": "execute_result"
    }
   ],
   "source": [
    "# This will convert 200 minutes to hours by dividing by 60.\n",
    "minutes = 200\n",
    "hours = minutes / 60\n",
    "hours"
   ]
  },
  {
   "cell_type": "markdown",
   "id": "dbf66cb5",
   "metadata": {},
   "source": [
    "# Objectives:\n",
    "\n",
    "* Python\n",
    "* SQL\n",
    "* R\n"
   ]
  },
  {
   "cell_type": "markdown",
   "id": "7e53b9b1",
   "metadata": {},
   "source": [
    "# Author\n",
    "\n",
    "BASWANI PRAVALIKA"
   ]
  },
  {
   "cell_type": "code",
   "execution_count": null,
   "id": "bf6ba715",
   "metadata": {},
   "outputs": [],
   "source": []
  }
 ],
 "metadata": {
  "kernelspec": {
   "display_name": "Python 3 (ipykernel)",
   "language": "python",
   "name": "python3"
  },
  "language_info": {
   "codemirror_mode": {
    "name": "ipython",
    "version": 3
   },
   "file_extension": ".py",
   "mimetype": "text/x-python",
   "name": "python",
   "nbconvert_exporter": "python",
   "pygments_lexer": "ipython3",
   "version": "3.9.12"
  }
 },
 "nbformat": 4,
 "nbformat_minor": 5
}
